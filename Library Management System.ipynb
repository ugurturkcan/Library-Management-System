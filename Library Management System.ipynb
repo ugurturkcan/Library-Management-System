{
 "cells": [
  {
   "cell_type": "code",
   "execution_count": null,
   "id": "4ed2eb6b",
   "metadata": {},
   "outputs": [
    {
     "name": "stdout",
     "output_type": "stream",
     "text": [
      "\n",
      "*** MENU***\n",
      "1) List Books\n",
      "2) Add Book\n",
      "3) Remove Book\n",
      "Enter your choice (1, 2, 3 or q to quit): 2\n",
      "Enter book title: Kendisinin Efendisi Olmayan Hiç Kimse Özgür Değildir\n",
      "Enter book author: Epiktetos\n",
      "Enter release year: Unknown\n",
      "Enter number of pages: 88\n",
      "\n",
      "*** MENU***\n",
      "1) List Books\n",
      "2) Add Book\n",
      "3) Remove Book\n",
      "Enter your choice (1, 2, 3 or q to quit): 1\n",
      "Kendisinin Efendisi Olmayan Hiç Kimse Özgür Değildir,Epiktetos,Unknown,88\n",
      "\n",
      "*** MENU***\n",
      "1) List Books\n",
      "2) Add Book\n",
      "3) Remove Book\n"
     ]
    }
   ],
   "source": [
    "class Library:\n",
    "    def __init__(self):\n",
    "        self.file = open(\"books1.txt\", \"a+\")\n",
    "\n",
    "    def __del__(self):\n",
    "        self.file.close()\n",
    "\n",
    "    def list_books(self):\n",
    "        self.file.seek(0)\n",
    "        books = self.file.read().splitlines()\n",
    "        for book in books:\n",
    "            print(book)\n",
    "\n",
    "    def add_book(self):\n",
    "        title = input(\"Enter book title: \")\n",
    "        author = input(\"Enter book author: \")\n",
    "        release_year = input(\"Enter release year: \")\n",
    "        num_pages = input(\"Enter number of pages: \")\n",
    "        book_info = f\"{title},{author},{release_year},{num_pages}\\n\"\n",
    "        self.file.write(book_info)\n",
    "\n",
    "    def remove_book(self):\n",
    "        title = input(\"Enter the title of the book to remove: \")\n",
    "        self.file.seek(0)\n",
    "        books = self.file.read().splitlines()\n",
    "        for book in books:\n",
    "            if title in book:\n",
    "                books.remove(book)\n",
    "                break\n",
    "        self.file.truncate(0)\n",
    "        self.file.seek(0)\n",
    "        for book in books:\n",
    "            self.file.write(book + '\\n')\n",
    "\n",
    "# Create the Library object\n",
    "lib = Library()\n",
    "\n",
    "# Menu loop\n",
    "while True:\n",
    "    print(\"\\n*** MENU***\")\n",
    "    print(\"1) List Books\")\n",
    "    print(\"2) Add Book\")\n",
    "    print(\"3) Remove Book\")\n",
    "    choice = input(\"Enter your choice (1, 2, 3 or q to quit): \")\n",
    "\n",
    "    if choice == '1':\n",
    "        lib.list_books()\n",
    "    elif choice == '2':\n",
    "        lib.add_book()\n",
    "    elif choice == '3':\n",
    "        lib.remove_book()\n",
    "    elif choice.lower() == 'q':\n",
    "        break\n",
    "    else:\n",
    "        print(\"Invalid choice. Please enter 1, 2, 3 or q to quit.\")\n"
   ]
  },
  {
   "cell_type": "code",
   "execution_count": null,
   "id": "994b1d60",
   "metadata": {},
   "outputs": [],
   "source": []
  }
 ],
 "metadata": {
  "kernelspec": {
   "display_name": "Python 3 (ipykernel)",
   "language": "python",
   "name": "python3"
  },
  "language_info": {
   "codemirror_mode": {
    "name": "ipython",
    "version": 3
   },
   "file_extension": ".py",
   "mimetype": "text/x-python",
   "name": "python",
   "nbconvert_exporter": "python",
   "pygments_lexer": "ipython3",
   "version": "3.11.5"
  }
 },
 "nbformat": 4,
 "nbformat_minor": 5
}
